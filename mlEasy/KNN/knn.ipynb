{
 "cells": [
  {
   "cell_type": "code",
   "execution_count": 11,
   "metadata": {},
   "outputs": [],
   "source": [
    "import numpy as np\n",
    "from collections import Counter\n",
    "def euclidean_distance(x1,x2):\n",
    "    return np.sqrt(np.sum(x1-x2)**2)\n",
    "class KNN:\n",
    "    def __init__(self,k=3):\n",
    "        self.k = k\n",
    "    \n",
    "    def fit(self,x,y): \n",
    "        self.x_train = x\n",
    "        self.y_train = y\n",
    "\n",
    "    def predict(self,x):\n",
    "        predicted = [self._predict(xi) for xi in x]\n",
    "        return np.array(predicted)  \n",
    "    def _predict(self,x):\n",
    "        # compute distance\n",
    "        distance = [euclidean_distance(x,xi_train) for xi_train in self.x_train]\n",
    "        #get K nearset samples,labels\n",
    "        k_indics = np.argsort(distance)[:self.k] # get \n",
    "        k_nearest_labels  = [self.y_train[i] for i in k_indics]\n",
    "        most_common = Counter(k_nearest_labels).most_common\n",
    "        return most_common[0][0]\n",
    "        \n",
    "        "
   ]
  },
  {
   "cell_type": "code",
   "execution_count": 12,
   "metadata": {},
   "outputs": [
    {
     "ename": "AttributeError",
     "evalue": "'KNN' object has no attribute 'x'",
     "output_type": "error",
     "traceback": [
      "\u001b[1;31m---------------------------------------------------------------------------\u001b[0m",
      "\u001b[1;31mAttributeError\u001b[0m                            Traceback (most recent call last)",
      "\u001b[1;32md:\\python\\pythonFundation\\mlEasy\\KNN\\knn.ipynb 单元格 2\u001b[0m in \u001b[0;36m<cell line: 25>\u001b[1;34m()\u001b[0m\n\u001b[0;32m     <a href='vscode-notebook-cell:/d%3A/python/pythonFundation/mlEasy/KNN/knn.ipynb#W1sZmlsZQ%3D%3D?line=22'>23</a>\u001b[0m clf \u001b[39m=\u001b[39m KNN(k\u001b[39m=\u001b[39m\u001b[39m3\u001b[39m)\n\u001b[0;32m     <a href='vscode-notebook-cell:/d%3A/python/pythonFundation/mlEasy/KNN/knn.ipynb#W1sZmlsZQ%3D%3D?line=23'>24</a>\u001b[0m clf\u001b[39m.\u001b[39mfit(x_train,y_train)\n\u001b[1;32m---> <a href='vscode-notebook-cell:/d%3A/python/pythonFundation/mlEasy/KNN/knn.ipynb#W1sZmlsZQ%3D%3D?line=24'>25</a>\u001b[0m predictions \u001b[39m=\u001b[39m clf\u001b[39m.\u001b[39;49mpredict(x_test)\n\u001b[0;32m     <a href='vscode-notebook-cell:/d%3A/python/pythonFundation/mlEasy/KNN/knn.ipynb#W1sZmlsZQ%3D%3D?line=25'>26</a>\u001b[0m acc \u001b[39m=\u001b[39m np\u001b[39m.\u001b[39msum(predictions\u001b[39m==\u001b[39my_test) \u001b[39m/\u001b[39m\u001b[39mlen\u001b[39m(y_test)\n\u001b[0;32m     <a href='vscode-notebook-cell:/d%3A/python/pythonFundation/mlEasy/KNN/knn.ipynb#W1sZmlsZQ%3D%3D?line=26'>27</a>\u001b[0m \u001b[39mprint\u001b[39m(acc)\n",
      "\u001b[1;32md:\\python\\pythonFundation\\mlEasy\\KNN\\knn.ipynb 单元格 2\u001b[0m in \u001b[0;36mKNN.predict\u001b[1;34m(self, x)\u001b[0m\n\u001b[0;32m     <a href='vscode-notebook-cell:/d%3A/python/pythonFundation/mlEasy/KNN/knn.ipynb#W1sZmlsZQ%3D%3D?line=12'>13</a>\u001b[0m \u001b[39mdef\u001b[39;00m \u001b[39mpredict\u001b[39m(\u001b[39mself\u001b[39m,x):\n\u001b[1;32m---> <a href='vscode-notebook-cell:/d%3A/python/pythonFundation/mlEasy/KNN/knn.ipynb#W1sZmlsZQ%3D%3D?line=13'>14</a>\u001b[0m     predicted \u001b[39m=\u001b[39m [\u001b[39mself\u001b[39m\u001b[39m.\u001b[39m_predict(xi) \u001b[39mfor\u001b[39;00m xi \u001b[39min\u001b[39;00m \u001b[39mself\u001b[39;49m\u001b[39m.\u001b[39;49mx]\n\u001b[0;32m     <a href='vscode-notebook-cell:/d%3A/python/pythonFundation/mlEasy/KNN/knn.ipynb#W1sZmlsZQ%3D%3D?line=14'>15</a>\u001b[0m     \u001b[39mreturn\u001b[39;00m np\u001b[39m.\u001b[39marray(predicted)\n",
      "\u001b[1;31mAttributeError\u001b[0m: 'KNN' object has no attribute 'x'"
     ]
    }
   ],
   "source": [
    "import numpy as np\n",
    "from sklearn import datasets\n",
    "from sklearn.model_selection import train_test_split\n",
    "import matplotlib.pyplot as plt\n",
    "from matplotlib.colors import ListedColormap\n",
    "cmap  = ListedColormap(['#FF0000','#00FF00','#0000FF'])\n",
    "iris = datasets.load_iris()\n",
    "x,y = iris.data,iris.target\n",
    "x_train,x_test,y_train,y_test = train_test_split(x,y,test_size=0.2,random_state=1234)\n",
    "# print(x_train.shape)\n",
    "# print(x_train[0])\n",
    "# print(y_train.shape) # 120,0\n",
    "# print(y_train)\n",
    "# plt.figure()\n",
    "# plt.scatter(x[:,0],x[:,1],c=y,cmap=cmap,edgecolors='k',s=20)\n",
    "# plt.show()\n",
    "## already get the points\n",
    "\n",
    "# a = [1,1,1,1,2,2,2,3,4,5]\n",
    "# from collections import Counter\n",
    "# most_common = Counter(a).most_common(2)\n",
    "# print(most_common) #(1,4),(2,3) key find times\n",
    "clf = KNN(k=3)\n",
    "clf.fit(x_train,y_train)\n",
    "predictions = clf.predict(x_test)\n",
    "acc = np.sum(predictions==y_test) /len(y_test)\n",
    "print(acc)"
   ]
  }
 ],
 "metadata": {
  "kernelspec": {
   "display_name": "base",
   "language": "python",
   "name": "python3"
  },
  "language_info": {
   "codemirror_mode": {
    "name": "ipython",
    "version": 3
   },
   "file_extension": ".py",
   "mimetype": "text/x-python",
   "name": "python",
   "nbconvert_exporter": "python",
   "pygments_lexer": "ipython3",
   "version": "3.9.12"
  },
  "orig_nbformat": 4
 },
 "nbformat": 4,
 "nbformat_minor": 2
}
