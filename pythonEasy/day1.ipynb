{
 "cells": [
  {
   "cell_type": "code",
   "execution_count": 1,
   "id": "fcc72be0",
   "metadata": {},
   "outputs": [
    {
     "name": "stdout",
     "output_type": "stream",
     "text": [
      "Nowcoder\n",
      "Nowcoder\n"
     ]
    }
   ],
   "source": [
    "# np3\n",
    "str = input();\n",
    "print(str);"
   ]
  },
  {
   "cell_type": "code",
   "execution_count": 2,
   "id": "c5ae3550",
   "metadata": {},
   "outputs": [
    {
     "name": "stdout",
     "output_type": "stream",
     "text": [
      "10\n",
      "10\n",
      "<class 'int'>\n"
     ]
    }
   ],
   "source": [
    "# np4\n",
    "a = int(input())\n",
    "print(a,sep='\\n')\n",
    "print(type(a))"
   ]
  },
  {
   "cell_type": "code",
   "execution_count": 4,
   "id": "9fdc96ec",
   "metadata": {},
   "outputs": [
    {
     "name": "stdout",
     "output_type": "stream",
     "text": [
      "niuniu\n",
      "I am niuniu and I am studying Python in Nowcoder!\n"
     ]
    }
   ],
   "source": [
    "# np4\n",
    "str = input()\n",
    "print(\"I am \" + str +\" and I am studying Python in Nowcoder!\")"
   ]
  },
  {
   "cell_type": "code",
   "execution_count": 14,
   "id": "19f0638e",
   "metadata": {},
   "outputs": [
    {
     "name": "stdout",
     "output_type": "stream",
     "text": [
      "1.00000\n",
      "1.00\n"
     ]
    }
   ],
   "source": [
    "# np5\n",
    "a = input()\n",
    "#print('{:.2f}'.format(float(a)))\n",
    "print('%.2f' %float(a))"
   ]
  },
  {
   "cell_type": "code",
   "execution_count": 18,
   "id": "57eb4393",
   "metadata": {},
   "outputs": [
    {
     "name": "stdout",
     "output_type": "stream",
     "text": [
      "10.9\n",
      "10\n",
      "11\n"
     ]
    }
   ],
   "source": [
    "# np6\n",
    "a =float(input())\n",
    "print(int(a))\n",
    "#print(round(a)) 10.6-11"
   ]
  },
  {
   "cell_type": "code",
   "execution_count": 19,
   "id": "0e1741cf",
   "metadata": {},
   "outputs": [
    {
     "name": "stdout",
     "output_type": "stream",
     "text": [
      "10\n",
      "10.0\n",
      "<class 'int'>\n"
     ]
    }
   ],
   "source": [
    "# np7\n",
    "a = int(input())\n",
    "print('%.1f' %float(a),sep='\\n')\n",
    "print(type(float(a)))"
   ]
  },
  {
   "cell_type": "code",
   "execution_count": 22,
   "id": "16885aa5",
   "metadata": {},
   "outputs": [
    {
     "name": "stdout",
     "output_type": "stream",
     "text": [
      "12\n",
      "0o14\n"
     ]
    }
   ],
   "source": [
    "# np8\n",
    "a = input()\n",
    "print(int(a,16))\n",
    "#print(oct(int(a)))\n"
   ]
  },
  {
   "cell_type": "code",
   "execution_count": 23,
   "id": "d896a674",
   "metadata": {},
   "outputs": [
    {
     "name": "stdout",
     "output_type": "stream",
     "text": [
      "a\n",
      "a\n",
      "aa\n"
     ]
    }
   ],
   "source": [
    "# np9\n",
    "str = input()\n",
    "str2 = input()\n",
    "print(str+str2)\n"
   ]
  },
  {
   "cell_type": "code",
   "execution_count": 30,
   "id": "8fc70c62",
   "metadata": {},
   "outputs": [
    {
     "name": "stdout",
     "output_type": "stream",
     "text": [
      "hello world\n",
      "11\n",
      "hell\n",
      "HELLO WORLD\n",
      "hello world\n",
      "hello world\n",
      "hello japan\n",
      "6\n",
      "True\n",
      "['hello', 'world']\n"
     ]
    }
   ],
   "source": [
    "# np10\n",
    "str = input()\n",
    "print(len(str))#11\n",
    "print(str[0:4])#index of string hell\n",
    "print(str.upper()) #\n",
    "print(str.lower()) #\n",
    "print(str.strip())# remove the space before or after the hub\n",
    "print(str.replace(\"world\",\"japan\"))\n",
    "print(str.find('world'))\n",
    "print(str.endswith(\"world\"))\n",
    "print(str.split(\" \"));\n",
    "print(str.capitalize())# the first word capitalized\n",
    "print(str.title()); # all word capitalized"
   ]
  },
  {
   "cell_type": "code",
   "execution_count": 32,
   "id": "3e6ced26",
   "metadata": {},
   "outputs": [
    {
     "name": "stdout",
     "output_type": "stream",
     "text": [
      "Niu ke Le\n",
      "niu ke le\n",
      "NIU KE LE\n",
      "Niu Ke Le\n"
     ]
    }
   ],
   "source": [
    "# np12\n",
    "name = input()\n",
    "\n",
    "print(name.lower())\n",
    "print(name.upper())\n",
    "print(name.title())\n"
   ]
  },
  {
   "cell_type": "code",
   "execution_count": 33,
   "id": "e1d375e8",
   "metadata": {},
   "outputs": [
    {
     "name": "stdout",
     "output_type": "stream",
     "text": [
      "zimin\n",
      "ziminziminziminziminziminziminziminziminziminzimin\n"
     ]
    }
   ],
   "source": [
    "# np14\n",
    "name = input()\n",
    "print(name*10)"
   ]
  },
  {
   "cell_type": "code",
   "execution_count": 37,
   "id": "def273eb",
   "metadata": {},
   "outputs": [
    {
     "name": "stdout",
     "output_type": "stream",
     "text": [
      "1\n",
      "Allen, you have passed our interview and will soon become a member of our company.\n",
      "Tom, you have passed our interview and will soon become a member of our company.\n",
      "Allen, welcome to join us!\n",
      "Andy, welcome to join us!\n"
     ]
    }
   ],
   "source": [
    "# np16\n",
    "offer_list = [\"Allen\",\"Tom\"]\n",
    "print(offer_list.count(\"Tom\"));\n",
    "for name in offer_list:\n",
    "    print(\"{}, you have passed our interview and will soon become a member of our company.\".format(name))\n",
    "offer_list[offer_list.index(\"Tom\")] = \"Andy\"\n",
    "for name in offer_list:\n",
    "    print(f\"{name}, welcome to join us!\")"
   ]
  },
  {
   "cell_type": "code",
   "execution_count": null,
   "id": "91a83bb8",
   "metadata": {
    "scrolled": true
   },
   "outputs": [],
   "source": [
    "# np17 18 19 20\n",
    "names = input()\n",
    "print(names.split(\" \"))\n",
    "#nums = input()\n",
    "#print([int(i) for i in nums.split()]) # create a list with for fun\n",
    "print(names.split(\" \").append('Allen'))#None append() no teturn\n",
    "list_name = names.split()\n",
    "list_name.append(\"tat\")\n",
    "print(list_name)\n",
    "list_name.insert(0,\"ngk\")\n",
    "print(list_name)\n",
    "list_name.remove(list_name[0])\n",
    "print(list_name)\n",
    "list_name.pop()\n",
    "print(list_name)"
   ]
  },
  {
   "cell_type": "code",
   "execution_count": null,
   "id": "dd31f94e",
   "metadata": {},
   "outputs": [],
   "source": [
    "# np25\n",
    "my_list = ['P','y','t','h','o','n']\n",
    "print(sorted(my_list))\n",
    "print(my_list)\n",
    "# my_list.sort()\n",
    "# my_list.reverse()\n",
    "my_list.sort(reverse=True)\n",
    "print(my_list)"
   ]
  },
  {
   "cell_type": "code",
   "execution_count": null,
   "id": "bd2bc037",
   "metadata": {},
   "outputs": [],
   "source": [
    "# np26\n",
    "name = ['Niumei', 'YOLO', 'Niu Ke Le', 'Mona'] \n",
    "food = ['pizza', 'fish', 'potato', 'beef']\n",
    "number =  [3, 6, 0, 3]\n",
    "friends=[]\n",
    "friends.append(name)\n",
    "friends.append(food)\n",
    "friends.append(number)\n",
    "print(friends)"
   ]
  },
  {
   "cell_type": "code",
   "execution_count": 2,
   "id": "d1d48f73",
   "metadata": {},
   "outputs": [
    {
     "name": "stdout",
     "output_type": "stream",
     "text": [
      "1234\n",
      "6745\n"
     ]
    }
   ],
   "source": [
    "#np24\n",
    "nums = input()\n",
    "n1 = []\n",
    "nums = str(nums)\n",
    "for i in nums:\n",
    "    num = int(i)\n",
    "    n1.append(str((num+3)%9))\n",
    "n1[0],n1[2] = n1[2],n1[0]\n",
    "n1[1],n1[3] = n1[3],n1[1] # better than c++\n",
    "n = ''.join(n1)\n",
    "print(n)\n"
   ]
  },
  {
   "cell_type": "code",
   "execution_count": 4,
   "id": "f8dd23a3",
   "metadata": {},
   "outputs": [
    {
     "name": "stdout",
     "output_type": "stream",
     "text": [
      "1\n",
      "[1, 2, 3, 4]\n",
      "[1, 2, 3]\n",
      "[1, 2, 3, 1]\n",
      "[2, 3, 4, 5]\n"
     ]
    }
   ],
   "source": [
    "#29 30 \n",
    "nums = int(input())\n",
    "stack = [1, 2, 3, 4, 5]\n",
    "stack.pop()\n",
    "print(stack)\n",
    "stack.pop()\n",
    "print(stack)\n",
    "stack.append(nums)\n",
    "print(stack)\n",
    "queue = [1, 2, 3, 4, 5] \n",
    "queue.pop(0)\n",
    "print(queue)\n",
    "queue.pop(0)\n",
    "print(queue)\n",
    "queue.append(nums)\n",
    "print(queue)"
   ]
  },
  {
   "cell_type": "code",
   "execution_count": 6,
   "id": "8bac3332",
   "metadata": {},
   "outputs": [
    {
     "name": "stdout",
     "output_type": "stream",
     "text": [
      "['Tom', 'Allen']\n",
      "['Allen', 'Jane', 'William']\n",
      "['William', 'Tony']\n"
     ]
    }
   ],
   "source": [
    "#np31\n",
    "group_list = [ 'Tom', 'Allen', 'Jane', 'William', 'Tony' ]\n",
    "print(group_list[0:2])\n",
    "print(group_list[1:4])\n",
    "print(group_list[3:5])"
   ]
  },
  {
   "cell_type": "code",
   "execution_count": 15,
   "id": "3610d3c2",
   "metadata": {},
   "outputs": [
    {
     "name": "stdout",
     "output_type": "stream",
     "text": [
      "1\n",
      "2\n",
      "3\n",
      "-1\n",
      "2\n",
      "1\n",
      "0 1\n",
      "0.50\n",
      "False\n"
     ]
    }
   ],
   "source": [
    "#np32\n",
    "x = int(input())\n",
    "y = int(input())\n",
    "print(x+y)\n",
    "print(x-y)\n",
    "print(x*y)\n",
    "print(x**y)\n",
    "print(x//y,x%y) #like /in cpp\n",
    "print('%.2f' %(x/y)) #"
   ]
  },
  {
   "cell_type": "markdown",
   "id": "bfbe2611",
   "metadata": {},
   "source": [
    "# mulitply input and logical\n"
   ]
  },
  {
   "cell_type": "code",
   "execution_count": 29,
   "id": "8bebc768",
   "metadata": {},
   "outputs": [
    {
     "name": "stdout",
     "output_type": "stream",
     "text": [
      "10 20\n",
      "10 20\n",
      "[10, 20]\n",
      "False\n",
      "20\n",
      "10\n",
      "False\n",
      "False\n",
      "1.2 1.2 1.5\n",
      "True\n",
      "False\n"
     ]
    }
   ],
   "source": [
    "# np35\n",
    "nums = input()\n",
    "list_nums = [int(i) for i in nums.split()]\n",
    "x,y =  nums.split() #\n",
    "print(x,y)\n",
    "print(list_nums)\n",
    "print(list_nums[0]==list_nums[1])\n",
    "print(x and y)\n",
    "print(x or y)\n",
    "print(not int(x))#i think its not good \n",
    "print(not x)\n",
    "print(not y)\n",
    "numfloat = input()\n",
    "k,x,y = numfloat.split()\n",
    "print(k<=x)\n",
    "print(k>=y)"
   ]
  },
  {
   "cell_type": "markdown",
   "id": "5eac4cb7",
   "metadata": {},
   "source": [
    "## string compare"
   ]
  },
  {
   "cell_type": "code",
   "execution_count": 30,
   "id": "35aaefb2",
   "metadata": {},
   "outputs": [
    {
     "name": "stdout",
     "output_type": "stream",
     "text": [
      "python\n",
      "Python\n",
      "False\n",
      "True\n"
     ]
    }
   ],
   "source": [
    "#np39\n",
    "str1 = input()\n",
    "str2 = input()\n",
    "print(str1 == str2) #not like c char* compare memory py like the strcmp OR == int cpp\n",
    "print(str1.lower() == str2.lower())"
   ]
  },
  {
   "cell_type": "code",
   "execution_count": 33,
   "id": "401cb859",
   "metadata": {},
   "outputs": [
    {
     "name": "stdout",
     "output_type": "stream",
     "text": [
      "1 2 3\n",
      "2\n",
      "True\n",
      "True\n"
     ]
    }
   ],
   "source": [
    "# 40\n",
    "# we have a list with string an give another name, check whether this name in list or not\n",
    "names = input()\n",
    "names = names.split()\n",
    "check = input()\n",
    "\n",
    "print(check in names) #I like it\n",
    "# 1\n",
    "names.append(check)\n",
    "print(bool(names.count(check)==2))"
   ]
  },
  {
   "cell_type": "markdown",
   "id": "a93bdba6",
   "metadata": {},
   "source": [
    "## py with bit count"
   ]
  },
  {
   "cell_type": "code",
   "execution_count": 37,
   "id": "2dd53636",
   "metadata": {},
   "outputs": [
    {
     "name": "stdout",
     "output_type": "stream",
     "text": [
      "1 2\n",
      "0\n",
      "3\n"
     ]
    }
   ],
   "source": [
    "    x,y = input().split()\n",
    "    print(int(x) & int(y))\n",
    "    print(int(x)|int(y))\n",
    "# only number can join bit count"
   ]
  },
  {
   "cell_type": "code",
   "execution_count": 38,
   "id": "edecf804",
   "metadata": {},
   "outputs": [
    {
     "name": "stdout",
     "output_type": "stream",
     "text": [
      "1 2 3 4\n",
      "-3\n"
     ]
    }
   ],
   "source": [
    "# np 42\n",
    "nums = input()\n",
    "x,y,z,k = [int(i) for i in nums.split()]\n",
    "print((x+y)*(z-k))"
   ]
  },
  {
   "cell_type": "markdown",
   "id": "1500c0fa",
   "metadata": {},
   "source": [
    "## py with if while switch"
   ]
  },
  {
   "cell_type": "code",
   "execution_count": null,
   "id": "8bdaabe2",
   "metadata": {},
   "outputs": [],
   "source": []
  },
  {
   "cell_type": "code",
   "execution_count": null,
   "id": "e2c05523",
   "metadata": {},
   "outputs": [],
   "source": []
  }
 ],
 "metadata": {
  "kernelspec": {
   "display_name": "Python 3 (ipykernel)",
   "language": "python",
   "name": "python3"
  },
  "language_info": {
   "codemirror_mode": {
    "name": "ipython",
    "version": 3
   },
   "file_extension": ".py",
   "mimetype": "text/x-python",
   "name": "python",
   "nbconvert_exporter": "python",
   "pygments_lexer": "ipython3",
   "version": "3.8.10"
  }
 },
 "nbformat": 4,
 "nbformat_minor": 5
}
