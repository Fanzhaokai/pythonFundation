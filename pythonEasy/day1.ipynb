{
 "cells": [
  {
   "cell_type": "code",
   "execution_count": 1,
   "id": "fcc72be0",
   "metadata": {},
   "outputs": [
    {
     "name": "stdout",
     "output_type": "stream",
     "text": [
      "Nowcoder\n",
      "Nowcoder\n"
     ]
    }
   ],
   "source": [
    "# np3\n",
    "str = input();\n",
    "print(str);"
   ]
  },
  {
   "cell_type": "code",
   "execution_count": 2,
   "id": "c5ae3550",
   "metadata": {},
   "outputs": [
    {
     "name": "stdout",
     "output_type": "stream",
     "text": [
      "10\n",
      "10\n",
      "<class 'int'>\n"
     ]
    }
   ],
   "source": [
    "# np4\n",
    "a = int(input())\n",
    "print(a,sep='\\n')\n",
    "print(type(a))"
   ]
  },
  {
   "cell_type": "code",
   "execution_count": 4,
   "id": "9fdc96ec",
   "metadata": {},
   "outputs": [
    {
     "name": "stdout",
     "output_type": "stream",
     "text": [
      "niuniu\n",
      "I am niuniu and I am studying Python in Nowcoder!\n"
     ]
    }
   ],
   "source": [
    "# np4\n",
    "str = input()\n",
    "print(\"I am \" + str +\" and I am studying Python in Nowcoder!\")"
   ]
  },
  {
   "cell_type": "code",
   "execution_count": 14,
   "id": "19f0638e",
   "metadata": {},
   "outputs": [
    {
     "name": "stdout",
     "output_type": "stream",
     "text": [
      "1.00000\n",
      "1.00\n"
     ]
    }
   ],
   "source": [
    "# np5\n",
    "a = input()\n",
    "#print('{:.2f}'.format(float(a)))\n",
    "print('%.2f' %float(a))"
   ]
  },
  {
   "cell_type": "code",
   "execution_count": 18,
   "id": "57eb4393",
   "metadata": {},
   "outputs": [
    {
     "name": "stdout",
     "output_type": "stream",
     "text": [
      "10.9\n",
      "10\n",
      "11\n"
     ]
    }
   ],
   "source": [
    "# np6\n",
    "a =float(input())\n",
    "print(int(a))\n",
    "#print(round(a)) 10.6-11"
   ]
  },
  {
   "cell_type": "code",
   "execution_count": 19,
   "id": "0e1741cf",
   "metadata": {},
   "outputs": [
    {
     "name": "stdout",
     "output_type": "stream",
     "text": [
      "10\n",
      "10.0\n",
      "<class 'int'>\n"
     ]
    }
   ],
   "source": [
    "# np7\n",
    "a = int(input())\n",
    "print('%.1f' %float(a),sep='\\n')\n",
    "print(type(float(a)))"
   ]
  },
  {
   "cell_type": "code",
   "execution_count": 22,
   "id": "16885aa5",
   "metadata": {},
   "outputs": [
    {
     "name": "stdout",
     "output_type": "stream",
     "text": [
      "12\n",
      "0o14\n"
     ]
    }
   ],
   "source": [
    "# np8\n",
    "a = input()\n",
    "print(int(a,16))\n",
    "#print(oct(int(a)))\n"
   ]
  },
  {
   "cell_type": "code",
   "execution_count": 23,
   "id": "d896a674",
   "metadata": {},
   "outputs": [
    {
     "name": "stdout",
     "output_type": "stream",
     "text": [
      "a\n",
      "a\n",
      "aa\n"
     ]
    }
   ],
   "source": [
    "# np9\n",
    "str = input()\n",
    "str2 = input()\n",
    "print(str+str2)\n"
   ]
  },
  {
   "cell_type": "code",
   "execution_count": 30,
   "id": "8fc70c62",
   "metadata": {},
   "outputs": [
    {
     "name": "stdout",
     "output_type": "stream",
     "text": [
      "hello world\n",
      "11\n",
      "hell\n",
      "HELLO WORLD\n",
      "hello world\n",
      "hello world\n",
      "hello japan\n",
      "6\n",
      "True\n",
      "['hello', 'world']\n"
     ]
    }
   ],
   "source": [
    "# np10\n",
    "str = input()\n",
    "print(len(str))#11\n",
    "print(str[0:4])#index of string hell\n",
    "print(str.upper()) #\n",
    "print(str.lower()) #\n",
    "print(str.strip())# remove the space before or after the hub\n",
    "print(str.replace(\"world\",\"japan\"))\n",
    "print(str.find('world'))\n",
    "print(str.endswith(\"world\"))\n",
    "print(str.split(\" \"));\n",
    "print(str.capitalize())# the first word capitalized\n",
    "print(str.title()); # all word capitalized"
   ]
  },
  {
   "cell_type": "code",
   "execution_count": 32,
   "id": "3e6ced26",
   "metadata": {},
   "outputs": [
    {
     "name": "stdout",
     "output_type": "stream",
     "text": [
      "Niu ke Le\n",
      "niu ke le\n",
      "NIU KE LE\n",
      "Niu Ke Le\n"
     ]
    }
   ],
   "source": [
    "# np12\n",
    "name = input()\n",
    "\n",
    "print(name.lower())\n",
    "print(name.upper())\n",
    "print(name.title())\n"
   ]
  },
  {
   "cell_type": "code",
   "execution_count": 33,
   "id": "e1d375e8",
   "metadata": {},
   "outputs": [
    {
     "name": "stdout",
     "output_type": "stream",
     "text": [
      "zimin\n",
      "ziminziminziminziminziminziminziminziminziminzimin\n"
     ]
    }
   ],
   "source": [
    "# np14\n",
    "name = input()\n",
    "print(name*10)"
   ]
  },
  {
   "cell_type": "code",
   "execution_count": 37,
   "id": "def273eb",
   "metadata": {},
   "outputs": [
    {
     "name": "stdout",
     "output_type": "stream",
     "text": [
      "1\n",
      "Allen, you have passed our interview and will soon become a member of our company.\n",
      "Tom, you have passed our interview and will soon become a member of our company.\n",
      "Allen, welcome to join us!\n",
      "Andy, welcome to join us!\n"
     ]
    }
   ],
   "source": [
    "# np16\n",
    "offer_list = [\"Allen\",\"Tom\"]\n",
    "print(offer_list.count(\"Tom\"));\n",
    "for name in offer_list:\n",
    "    print(\"{}, you have passed our interview and will soon become a member of our company.\".format(name))\n",
    "offer_list[offer_list.index(\"Tom\")] = \"Andy\"\n",
    "for name in offer_list:\n",
    "    print(f\"{name}, welcome to join us!\")"
   ]
  },
  {
   "cell_type": "code",
   "execution_count": null,
   "id": "91a83bb8",
   "metadata": {
    "scrolled": true
   },
   "outputs": [],
   "source": [
    "# np17 18 19 20\n",
    "names = input()\n",
    "print(names.split(\" \"))\n",
    "#nums = input()\n",
    "#print([int(i) for i in nums.split()]) # create a list with for fun\n",
    "print(names.split(\" \").append('Allen'))#None append() no teturn\n",
    "list_name = names.split()\n",
    "list_name.append(\"tat\")\n",
    "print(list_name)\n",
    "list_name.insert(0,\"ngk\")\n",
    "print(list_name)\n",
    "list_name.remove(list_name[0])\n",
    "print(list_name)\n",
    "list_name.pop()\n",
    "print(list_name)"
   ]
  },
  {
   "cell_type": "code",
   "execution_count": null,
   "id": "dd31f94e",
   "metadata": {},
   "outputs": [],
   "source": [
    "# np25\n",
    "my_list = ['P','y','t','h','o','n']\n",
    "print(sorted(my_list))\n",
    "print(my_list)\n",
    "# my_list.sort()\n",
    "# my_list.reverse()\n",
    "my_list.sort(reverse=True)\n",
    "print(my_list)"
   ]
  },
  {
   "cell_type": "code",
   "execution_count": null,
   "id": "bd2bc037",
   "metadata": {},
   "outputs": [],
   "source": [
    "# np26\n",
    "name = ['Niumei', 'YOLO', 'Niu Ke Le', 'Mona'] \n",
    "food = ['pizza', 'fish', 'potato', 'beef']\n",
    "number =  [3, 6, 0, 3]\n",
    "friends=[]\n",
    "friends.append(name)\n",
    "friends.append(food)\n",
    "friends.append(number)\n",
    "print(friends)"
   ]
  },
  {
   "cell_type": "code",
   "execution_count": 2,
   "id": "d1d48f73",
   "metadata": {},
   "outputs": [
    {
     "name": "stdout",
     "output_type": "stream",
     "text": [
      "1234\n",
      "6745\n"
     ]
    }
   ],
   "source": [
    "#np24\n",
    "nums = input()\n",
    "n1 = []\n",
    "nums = str(nums)\n",
    "for i in nums:\n",
    "    num = int(i)\n",
    "    n1.append(str((num+3)%9))\n",
    "n1[0],n1[2] = n1[2],n1[0]\n",
    "n1[1],n1[3] = n1[3],n1[1] # better than c++\n",
    "n = ''.join(n1)\n",
    "print(n)\n"
   ]
  },
  {
   "cell_type": "code",
   "execution_count": 4,
   "id": "f8dd23a3",
   "metadata": {},
   "outputs": [
    {
     "name": "stdout",
     "output_type": "stream",
     "text": [
      "1\n",
      "[1, 2, 3, 4]\n",
      "[1, 2, 3]\n",
      "[1, 2, 3, 1]\n",
      "[2, 3, 4, 5]\n"
     ]
    }
   ],
   "source": [
    "#29 30 \n",
    "nums = int(input())\n",
    "stack = [1, 2, 3, 4, 5]\n",
    "stack.pop()\n",
    "print(stack)\n",
    "stack.pop()\n",
    "print(stack)\n",
    "stack.append(nums)\n",
    "print(stack)\n",
    "queue = [1, 2, 3, 4, 5] \n",
    "queue.pop(0)\n",
    "print(queue)\n",
    "queue.pop(0)\n",
    "print(queue)\n",
    "queue.append(nums)\n",
    "print(queue)"
   ]
  },
  {
   "cell_type": "code",
   "execution_count": 6,
   "id": "8bac3332",
   "metadata": {},
   "outputs": [
    {
     "name": "stdout",
     "output_type": "stream",
     "text": [
      "['Tom', 'Allen']\n",
      "['Allen', 'Jane', 'William']\n",
      "['William', 'Tony']\n"
     ]
    }
   ],
   "source": [
    "#np31\n",
    "group_list = [ 'Tom', 'Allen', 'Jane', 'William', 'Tony' ]\n",
    "print(group_list[0:2])\n",
    "print(group_list[1:4])\n",
    "print(group_list[3:5])"
   ]
  },
  {
   "cell_type": "code",
   "execution_count": 15,
   "id": "3610d3c2",
   "metadata": {},
   "outputs": [
    {
     "name": "stdout",
     "output_type": "stream",
     "text": [
      "1\n",
      "2\n",
      "3\n",
      "-1\n",
      "2\n",
      "1\n",
      "0 1\n",
      "0.50\n",
      "False\n"
     ]
    }
   ],
   "source": [
    "#np32\n",
    "x = int(input())\n",
    "y = int(input())\n",
    "print(x+y)\n",
    "print(x-y)\n",
    "print(x*y)\n",
    "print(x**y)\n",
    "print(x//y,x%y) #like /in cpp\n",
    "print('%.2f' %(x/y)) #"
   ]
  },
  {
   "cell_type": "markdown",
   "id": "bfbe2611",
   "metadata": {},
   "source": [
    "# mulitply input and logical\n"
   ]
  },
  {
   "cell_type": "code",
   "execution_count": 29,
   "id": "8bebc768",
   "metadata": {},
   "outputs": [
    {
     "name": "stdout",
     "output_type": "stream",
     "text": [
      "10 20\n",
      "10 20\n",
      "[10, 20]\n",
      "False\n",
      "20\n",
      "10\n",
      "False\n",
      "False\n",
      "1.2 1.2 1.5\n",
      "True\n",
      "False\n"
     ]
    }
   ],
   "source": [
    "# np35\n",
    "nums = input()\n",
    "list_nums = [int(i) for i in nums.split()]\n",
    "x,y =  nums.split() #\n",
    "print(x,y)\n",
    "print(list_nums)\n",
    "print(list_nums[0]==list_nums[1])\n",
    "print(x and y)\n",
    "print(x or y)\n",
    "print(not int(x))#i think its not good \n",
    "print(not x)\n",
    "print(not y)\n",
    "numfloat = input()\n",
    "k,x,y = numfloat.split()\n",
    "print(k<=x)\n",
    "print(k>=y)"
   ]
  },
  {
   "cell_type": "markdown",
   "id": "5eac4cb7",
   "metadata": {},
   "source": [
    "## string compare"
   ]
  },
  {
   "cell_type": "code",
   "execution_count": 30,
   "id": "35aaefb2",
   "metadata": {},
   "outputs": [
    {
     "name": "stdout",
     "output_type": "stream",
     "text": [
      "python\n",
      "Python\n",
      "False\n",
      "True\n"
     ]
    }
   ],
   "source": [
    "#np39\n",
    "str1 = input()\n",
    "str2 = input()\n",
    "print(str1 == str2) #not like c char* compare memory py like the strcmp OR == int cpp\n",
    "print(str1.lower() == str2.lower())"
   ]
  },
  {
   "cell_type": "code",
   "execution_count": 33,
   "id": "401cb859",
   "metadata": {},
   "outputs": [
    {
     "name": "stdout",
     "output_type": "stream",
     "text": [
      "1 2 3\n",
      "2\n",
      "True\n",
      "True\n"
     ]
    }
   ],
   "source": [
    "# 40\n",
    "# we have a list with string an give another name, check whether this name in list or not\n",
    "names = input()\n",
    "names = names.split()\n",
    "check = input()\n",
    "\n",
    "print(check in names) #I like it\n",
    "# 1\n",
    "names.append(check)\n",
    "print(bool(names.count(check)==2))"
   ]
  },
  {
   "cell_type": "markdown",
   "id": "a93bdba6",
   "metadata": {},
   "source": [
    "## py with bit count"
   ]
  },
  {
   "cell_type": "code",
   "execution_count": 37,
   "id": "2dd53636",
   "metadata": {},
   "outputs": [
    {
     "name": "stdout",
     "output_type": "stream",
     "text": [
      "1 2\n",
      "0\n",
      "3\n"
     ]
    }
   ],
   "source": [
    "    x,y = input().split()\n",
    "    print(int(x) & int(y))\n",
    "    print(int(x)|int(y))\n",
    "# only number can join bit count"
   ]
  },
  {
   "cell_type": "code",
   "execution_count": 38,
   "id": "edecf804",
   "metadata": {},
   "outputs": [
    {
     "name": "stdout",
     "output_type": "stream",
     "text": [
      "1 2 3 4\n",
      "-3\n"
     ]
    }
   ],
   "source": [
    "# np 42\n",
    "nums = input()\n",
    "x,y,z,k = [int(i) for i in nums.split()]\n",
    "print((x+y)*(z-k))"
   ]
  },
  {
   "cell_type": "markdown",
   "id": "1500c0fa",
   "metadata": {},
   "source": [
    "## py with if while switch"
   ]
  },
  {
   "cell_type": "code",
   "execution_count": 2,
   "id": "8bdaabe2",
   "metadata": {},
   "outputs": [
    {
     "name": "stdout",
     "output_type": "stream",
     "text": [
      "my_list is empty!\n"
     ]
    }
   ],
   "source": [
    "# np44\n",
    "my_list = []\n",
    "if my_list.__len__==0 : # if not my_list    \n",
    "    print(\"my_list is empty!\")\n",
    "else:\n",
    "    print('my_list is empty!')"
   ]
  },
  {
   "cell_type": "code",
   "execution_count": 8,
   "id": "6fcf07f6",
   "metadata": {},
   "outputs": [
    {
     "name": "stdout",
     "output_type": "stream",
     "text": [
      "The user name GurR has already been registered! Please change it and try again!\n",
      "Congratulations, the user name Niu Ke Le is available!\n",
      "The user name LoLo has already been registered! Please change it and try again!\n",
      "Congratulations, the user name Tuo Rui Chi is available!\n"
     ]
    }
   ],
   "source": [
    "# np45\n",
    "current_users = ['Niuniu','Niumei','GURR','LOLO']\n",
    "new_users = ['GurR','Niu Ke Le','LoLo','Tuo Rui Chi']\n",
    "for user in new_users:\n",
    "    if not user.upper() in current_users: #check if a in the list\n",
    "        print(\"Congratulations, the user name {} is available!\".format(user))\n",
    "    else :\n",
    "        print(\"The user name {} has already been registered! Please change it and try again!\".format(user))\n",
    "\n"
   ]
  },
  {
   "cell_type": "code",
   "execution_count": 9,
   "id": "e2c05523",
   "metadata": {},
   "outputs": [
    {
     "name": "stdout",
     "output_type": "stream",
     "text": [
      "8\n"
     ]
    }
   ],
   "source": [
    "#np46\n",
    "ordered = input()\n",
    "if ordered==\"pizza\":\n",
    "    print(10)\n",
    "elif ordered == \"rice\":\n",
    "    print(2)\n",
    "elif ordered ==\"yogurt\":\n",
    "    print(5)\n",
    "else :\n",
    "    print(8)"
   ]
  },
  {
   "cell_type": "code",
   "execution_count": 10,
   "id": "aee8aec3",
   "metadata": {},
   "outputs": [],
   "source": [
    "  #np47\n",
    "import math\n",
    "grade_point_map = {'A':4.0,'B':3.0,'C':2.0,'D':1.0,'F':0} #dictionary\n",
    "grades = []\n",
    "credits = []\n",
    "while True:\n",
    "    grade = input()\n",
    "    if grade == \"False\":\n",
    "        break\n",
    "    credit = input()\n",
    "    credits.append(int(credit)*grade_point_map[grade])\n",
    "    grades.append(int(credit))\n",
    "print(\"{:.2f}\".format(sum(credits)/sum(grades)))"
   ]
  },
  {
   "cell_type": "code",
   "execution_count": 1,
   "id": "a10b22a5",
   "metadata": {},
   "outputs": [
    {
     "name": "stdout",
     "output_type": "stream",
     "text": [
      "Welcome!\n"
     ]
    }
   ],
   "source": [
    "# np48\n",
    "username = input()\n",
    "password = input()\n",
    "if username == 'admis' and password =='Nowcoder666':\n",
    "    print(\"Welcome!\")\n",
    "else :\n",
    "    print(\"user id or password is not correct!\")"
   ]
  },
  {
   "cell_type": "code",
   "execution_count": 2,
   "id": "90eb2872",
   "metadata": {},
   "outputs": [
    {
     "name": "stdout",
     "output_type": "stream",
     "text": [
      "Here is the original list:\n",
      "['P', 'y', 't', 'h', 'o', 'n']\n",
      "\n",
      "The number that my_list has is:\n",
      "6\n"
     ]
    }
   ],
   "source": [
    "# np49\n",
    "my_list = ['P','y','t','h','o','n']\n",
    "print(\"Here is the original list:\")\n",
    "print(my_list)\n",
    "print(sep='\\n')\n",
    "print(\"The number that my_list has is:\")\n",
    "print(len(my_list))\n"
   ]
  },
  {
   "cell_type": "code",
   "execution_count": 3,
   "id": "3b9b905b",
   "metadata": {},
   "outputs": [
    {
     "name": "stdout",
     "output_type": "stream",
     "text": [
      "Hi, Niuniu! Welcome to Nowcoder!\n",
      "Hi, Niumei! Welcome to Nowcoder!\n",
      "Hi, Niu Ke Le! Welcome to Nowcoder!\n",
      "Happy Programmers' Day to everyone!\n"
     ]
    }
   ],
   "source": [
    "# np50\n",
    "users_list = [ 'Niuniu' ,'Niumei' , 'Niu Ke Le' ]\n",
    "for user in users_list:\n",
    "    print(\"Hi, {}! Welcome to Nowcoder!\".format(user))\n",
    "print(\"Happy Programmers' Day to everyone!\")"
   ]
  },
  {
   "cell_type": "code",
   "execution_count": 6,
   "id": "aeca277d",
   "metadata": {},
   "outputs": [
    {
     "name": "stdout",
     "output_type": "stream",
     "text": [
      "[10, 11, 12, 13, 14, 15, 16, 17, 18, 19, 20, 21, 22, 23, 24, 25, 26, 27, 28, 29, 30, 31, 32, 33, 34, 35, 36, 37, 38, 39, 40, 41, 42, 43, 44, 45, 46, 47, 48, 49, 50]\n",
      "10 50\n"
     ]
    }
   ],
   "source": [
    "num_list = [i for i in range(10,51)]\n",
    "print(num_list)\n",
    "print(str(num_list[0])+\" \"+str(num_list[-1]))"
   ]
  },
  {
   "cell_type": "code",
   "execution_count": 8,
   "id": "abad963c",
   "metadata": {},
   "outputs": [
    {
     "name": "stdout",
     "output_type": "stream",
     "text": [
      "69 23.0\n"
     ]
    }
   ],
   "source": [
    "# np52\n",
    "ages_list = [int(age) for age in input().split()]\n",
    "print(\"{} {:.1f}\".format(sum(ages_list),sum(ages_list)/len(ages_list)))"
   ]
  },
  {
   "attachments": {},
   "cell_type": "markdown",
   "id": "b524be0c",
   "metadata": {},
   "source": [
    "## the using of range in py\n",
    "range(start,end, step)\n",
    "start: default 0\n",
    "end: the end of nums without the num end\n",
    "step : the step for n-1 to n"
   ]
  },
  {
   "cell_type": "code",
   "execution_count": 11,
   "id": "a5467da1",
   "metadata": {},
   "outputs": [
    {
     "name": "stdout",
     "output_type": "stream",
     "text": [
      "0\n",
      "5\n",
      "10\n",
      "15\n",
      "20\n",
      "25\n",
      "30\n",
      "35\n",
      "40\n",
      "45\n",
      "50\n"
     ]
    }
   ],
   "source": [
    "# np53\n",
    "nums_list = [i for i in range(5,51,5)] \n",
    "for num in nums_list:\n",
    "    print(num)"
   ]
  },
  {
   "cell_type": "code",
   "execution_count": 12,
   "id": "bf3f682c",
   "metadata": {},
   "outputs": [
    {
     "name": "stdout",
     "output_type": "stream",
     "text": [
      "2\n",
      "4\n",
      "8\n",
      "16\n",
      "32\n",
      "64\n",
      "128\n",
      "256\n",
      "512\n",
      "1024\n"
     ]
    }
   ],
   "source": [
    "#np55\n",
    "my_list = []\n",
    "for i in range(1,11):\n",
    "    my_list.append(2**i)\n",
    "    print(2**i)\n"
   ]
  },
  {
   "cell_type": "code",
   "execution_count": 13,
   "id": "60340b5f",
   "metadata": {},
   "outputs": [
    {
     "name": "stdout",
     "output_type": "stream",
     "text": [
      "['apple', 'ice cream', 'watermelon', 'chips', 'hotdogs']\n",
      "['apple', 'ice cream', 'watermelon', 'chips']\n",
      "['apple', 'ice cream', 'watermelon']\n",
      "['apple', 'ice cream']\n",
      "['apple']\n",
      "[]\n"
     ]
    }
   ],
   "source": [
    "food_list = ['apple', 'ice cream', 'watermelon', 'chips', 'hotdogs', 'hotpot']\n",
    "while len(food_list)!=0:\n",
    "    food_list.pop()\n",
    "    print(food_list)"
   ]
  },
  {
   "cell_type": "code",
   "execution_count": 17,
   "id": "ceecf343",
   "metadata": {},
   "outputs": [
    {
     "name": "stdout",
     "output_type": "stream",
     "text": [
      "3\n",
      "45\n",
      "9\n",
      "8\n"
     ]
    }
   ],
   "source": [
    "num_list = [3, 45, 9, 8, 12, 89, 103, 42, 54, 79]\n",
    "a = input()\n",
    "for num in num_list:\n",
    "    if int(a) == num:\n",
    "        break\n",
    "    print(num)"
   ]
  },
  {
   "cell_type": "code",
   "execution_count": 21,
   "id": "f76ac671",
   "metadata": {},
   "outputs": [
    {
     "name": "stdout",
     "output_type": "stream",
     "text": [
      "1 2 3 4 5 6 7 8 9 10 11 12 14 15\n"
     ]
    }
   ],
   "source": [
    "ret = \"\"\n",
    "for i in range(1,16):\n",
    "    if i==13:\n",
    "        continue\n",
    "    ret += \" {}\".format(i)\n",
    "print(ret.strip())"
   ]
  },
  {
   "cell_type": "code",
   "execution_count": 25,
   "id": "535b4e38",
   "metadata": {},
   "outputs": [
    {
     "name": "stdout",
     "output_type": "stream",
     "text": [
      "[[2, 4, 6], [8, 10, 12], [14, 16, 18]]\n"
     ]
    }
   ],
   "source": [
    "matrics = [[1,2,3],[4,5,6],[7,8,9]]\n",
    "num = int(input())\n",
    "print([[x*num for x in i] for i in matrics])"
   ]
  },
  {
   "cell_type": "code",
   "execution_count": 28,
   "id": "7e7db0f6",
   "metadata": {},
   "outputs": [
    {
     "name": "stdout",
     "output_type": "stream",
     "text": [
      "('1', '2')\n"
     ]
    }
   ],
   "source": [
    "# np62\n",
    "name_tuple = tuple([input(),input()]) # the tuple just read cant write\n",
    "print(name_tuple)"
   ]
  },
  {
   "cell_type": "code",
   "execution_count": 29,
   "id": "47885da1",
   "metadata": {},
   "outputs": [
    {
     "name": "stdout",
     "output_type": "stream",
     "text": [
      "The entry form cannot be modified!\n"
     ]
    }
   ],
   "source": [
    "# np63\n",
    "entry_form = tuple(['Niuniu','Niumei'])\n",
    "try:\n",
    "    entry_form[0] = 'zimin'\n",
    "except:\n",
    "    print('The entry form cannot be modified!')\n"
   ]
  },
  {
   "cell_type": "code",
   "execution_count": null,
   "id": "e15d391f",
   "metadata": {},
   "outputs": [],
   "source": []
  }
 ],
 "metadata": {
  "kernelspec": {
   "display_name": "Python 3 (ipykernel)",
   "language": "python",
   "name": "python3"
  },
  "language_info": {
   "codemirror_mode": {
    "name": "ipython",
    "version": 3
   },
   "file_extension": ".py",
   "mimetype": "text/x-python",
   "name": "python",
   "nbconvert_exporter": "python",
   "pygments_lexer": "ipython3",
   "version": "3.9.13"
  }
 },
 "nbformat": 4,
 "nbformat_minor": 5
}
